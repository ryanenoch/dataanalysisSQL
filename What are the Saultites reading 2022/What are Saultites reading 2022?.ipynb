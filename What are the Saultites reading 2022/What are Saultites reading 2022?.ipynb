{
 "cells": [
  {
   "cell_type": "markdown",
   "id": "75acca3d",
   "metadata": {},
   "source": [
    "### Introduction\n",
    "\n",
    "SooToday published a list of the top 25 most circulated books of 2022 compiled by the Sault Ste. Marie Library. Apparently, the article implies that the locals mostly read books made by David Baldacci. To confirm, an analysis will be done on the list of most circulated books\n",
    "\n",
    "The analysis will be done using JupySQL running DuckDB SQL RDBMS and the results will be visualized as a bar chart using Matplotlib and Seaborn. A bit of Python code will be used just to convert the query results to a dataframe form readable by Matplotlib and Seaborn"
   ]
  },
  {
   "attachments": {},
   "cell_type": "markdown",
   "id": "ea2b597c",
   "metadata": {},
   "source": [
    "### Acknowledgement\n",
    "\n",
    "This Jupyter notebook file uses data compiled by the Sault Ste. Marie Public Library posted on the original article (dated March 3, 2023) on SooToday website\n",
    "\n",
    "Link <br>\n",
    "https://www.sootoday.com/local-news/what-are-saultites-reading-6643495\n",
    "\n",
    "\n",
    "Some of the author data missing from the original SooToday article are added to the CSV and SQL database file from various sources\n",
    "\n",
    "Links<br>\n",
    "https://www.simonandschuster.com/authors/Taste-of-Home/2135731010\n",
    "\n",
    "https://books.google.ca/books/about/The_Official_MTO_Motorcycle_Handbook.html?id=gfiGAQAACAAJ&redir_esc=y\n",
    "\n",
    "https://www.abebooks.com/servlet/BookDetailsPL?bi=30969940246&searchurl=sortby%3D17%26tn%3Dofficial%2Bair%2Bbrake%2Bhandbook&cm_sp=snippet-_-srp1-_-title4"
   ]
  },
  {
   "cell_type": "markdown",
   "id": "b858ec2e",
   "metadata": {},
   "source": [
    "### Initial Setup\n",
    "\n",
    "Before starting the data analysis, we will install JupySQL in the notebook if not installed"
   ]
  },
  {
   "cell_type": "code",
   "execution_count": null,
   "id": "a5335fd3",
   "metadata": {},
   "outputs": [],
   "source": [
    "#For installing jupysql \n",
    "#%pip install jupysql duckdb duckdb-engine"
   ]
  },
  {
   "cell_type": "markdown",
   "id": "ad333f19",
   "metadata": {},
   "source": [
    "Once JupySQL is installed, we will connect to a database and on first time use, create a table and copy the CSV data to the table"
   ]
  },
  {
   "cell_type": "code",
   "execution_count": 2,
   "id": "fff8fc49",
   "metadata": {},
   "outputs": [],
   "source": [
    "# Here we connect the Jupyter notebook to the database file.\n",
    "%load_ext sql\n",
    "%sql duckdb:///sault_library_2022.db"
   ]
  },
  {
   "cell_type": "code",
   "execution_count": 2,
   "id": "1947c53d",
   "metadata": {},
   "outputs": [
    {
     "name": "stdout",
     "output_type": "stream",
     "text": [
      "*  duckdb:///sault_library_2022.db\n",
      "Done.\n"
     ]
    },
    {
     "data": {
      "text/html": [
       "<table>\n",
       "    <tr>\n",
       "        <th>Count</th>\n",
       "    </tr>\n",
       "    <tr>\n",
       "        <td>175</td>\n",
       "    </tr>\n",
       "</table>"
      ],
      "text/plain": [
       "[(175,)]"
      ]
     },
     "execution_count": 2,
     "metadata": {},
     "output_type": "execute_result"
    }
   ],
   "source": [
    "%%sql\n",
    "/*Creates table only if it doesn't exist \n",
    "and copies CSV data to table*/\n",
    "\n",
    "CREATE TABLE IF NOT EXISTS most_circulated_books_22 AS\n",
    "SELECT * FROM 'what are saultites reading 2022.csv'"
   ]
  },
  {
   "cell_type": "markdown",
   "id": "e486895b",
   "metadata": {},
   "source": [
    "### Exploration\n",
    "\n",
    "We will explore the SQL database by first checking its schema table"
   ]
  },
  {
   "cell_type": "code",
   "execution_count": 39,
   "id": "e7211e65",
   "metadata": {},
   "outputs": [
    {
     "name": "stdout",
     "output_type": "stream",
     "text": [
      "*  duckdb:///sault_library_2022.db\n",
      "Done.\n"
     ]
    },
    {
     "data": {
      "text/html": [
       "<table>\n",
       "    <tr>\n",
       "        <th>type</th>\n",
       "        <th>name</th>\n",
       "        <th>tbl_name</th>\n",
       "        <th>rootpage</th>\n",
       "        <th>sql</th>\n",
       "    </tr>\n",
       "    <tr>\n",
       "        <td>table</td>\n",
       "        <td>most_circulated_books_22</td>\n",
       "        <td>most_circulated_books_22</td>\n",
       "        <td>0</td>\n",
       "        <td>CREATE TABLE most_circulated_books_22(&quot;Rank&quot; INTEGER, &quot;Book_Name&quot; VARCHAR, &quot;Author_Name&quot; VARCHAR, &quot;Category&quot; VARCHAR);</td>\n",
       "    </tr>\n",
       "</table>"
      ],
      "text/plain": [
       "[('table', 'most_circulated_books_22', 'most_circulated_books_22', 0, 'CREATE TABLE most_circulated_books_22(\"Rank\" INTEGER, \"Book_Name\" VARCHAR, \"Author_Name\" VARCHAR, \"Category\" VARCHAR);')]"
      ]
     },
     "execution_count": 39,
     "metadata": {},
     "output_type": "execute_result"
    }
   ],
   "source": [
    "%%sql\n",
    "--Exploring Schema table of the database\n",
    "\n",
    "SELECT *\n",
    "  FROM sqlite_master\n",
    " WHERE type='table'; "
   ]
  },
  {
   "cell_type": "markdown",
   "id": "263b8477",
   "metadata": {},
   "source": [
    "Let's check out the table named most_circulated_books_22"
   ]
  },
  {
   "cell_type": "code",
   "execution_count": 55,
   "id": "ce0d89af",
   "metadata": {
    "scrolled": true
   },
   "outputs": [
    {
     "name": "stdout",
     "output_type": "stream",
     "text": [
      "*  duckdb:///sault_library_2022.db\n",
      "Done.\n"
     ]
    },
    {
     "data": {
      "text/html": [
       "<table>\n",
       "    <tr>\n",
       "        <th>Rank</th>\n",
       "        <th>Book_Name</th>\n",
       "        <th>Author_Name</th>\n",
       "        <th>Category</th>\n",
       "    </tr>\n",
       "    <tr>\n",
       "        <td>1</td>\n",
       "        <td> A Gambling Man </td>\n",
       "        <td> David Baldacci</td>\n",
       "        <td>Adult Fiction</td>\n",
       "    </tr>\n",
       "    <tr>\n",
       "        <td>2</td>\n",
       "        <td> Daylight </td>\n",
       "        <td> David Baldacci</td>\n",
       "        <td>Adult Fiction</td>\n",
       "    </tr>\n",
       "    <tr>\n",
       "        <td>3</td>\n",
       "        <td> Walk the Wire </td>\n",
       "        <td> David Baldacci</td>\n",
       "        <td>Adult Fiction</td>\n",
       "    </tr>\n",
       "    <tr>\n",
       "        <td>4</td>\n",
       "        <td> One Good Deed </td>\n",
       "        <td> David Baldacci</td>\n",
       "        <td>Adult Fiction</td>\n",
       "    </tr>\n",
       "    <tr>\n",
       "        <td>5</td>\n",
       "        <td> The Book of Two Ways </td>\n",
       "        <td> Jodi Picoult</td>\n",
       "        <td>Adult Fiction</td>\n",
       "    </tr>\n",
       "    <tr>\n",
       "        <td>6</td>\n",
       "        <td> Long Road to Mercy </td>\n",
       "        <td> David Baldacci</td>\n",
       "        <td>Adult Fiction</td>\n",
       "    </tr>\n",
       "    <tr>\n",
       "        <td>7</td>\n",
       "        <td> A Time for Mercy </td>\n",
       "        <td> John Grisham</td>\n",
       "        <td>Adult Fiction</td>\n",
       "    </tr>\n",
       "    <tr>\n",
       "        <td>8</td>\n",
       "        <td> The Rose Code </td>\n",
       "        <td> Kate Quinn</td>\n",
       "        <td>Adult Fiction</td>\n",
       "    </tr>\n",
       "    <tr>\n",
       "        <td>9</td>\n",
       "        <td> The Four Winds </td>\n",
       "        <td> Kristin Hannah</td>\n",
       "        <td>Adult Fiction</td>\n",
       "    </tr>\n",
       "    <tr>\n",
       "        <td>10</td>\n",
       "        <td> Mercy </td>\n",
       "        <td> David Baldacci</td>\n",
       "        <td>Adult Fiction</td>\n",
       "    </tr>\n",
       "</table>"
      ],
      "text/plain": [
       "[(1, ' A Gambling Man ', ' David Baldacci', 'Adult Fiction'),\n",
       " (2, ' Daylight ', ' David Baldacci', 'Adult Fiction'),\n",
       " (3, ' Walk the Wire ', ' David Baldacci', 'Adult Fiction'),\n",
       " (4, ' One Good Deed ', ' David Baldacci', 'Adult Fiction'),\n",
       " (5, ' The Book of Two Ways ', ' Jodi Picoult', 'Adult Fiction'),\n",
       " (6, ' Long Road to Mercy ', ' David Baldacci', 'Adult Fiction'),\n",
       " (7, ' A Time for Mercy ', ' John Grisham', 'Adult Fiction'),\n",
       " (8, ' The Rose Code ', ' Kate Quinn', 'Adult Fiction'),\n",
       " (9, ' The Four Winds ', ' Kristin Hannah', 'Adult Fiction'),\n",
       " (10, ' Mercy ', ' David Baldacci', 'Adult Fiction')]"
      ]
     },
     "execution_count": 55,
     "metadata": {},
     "output_type": "execute_result"
    }
   ],
   "source": [
    "%%sql\n",
    "SELECT *\n",
    "FROM most_circulated_books_22\n",
    "LIMIT 10"
   ]
  },
  {
   "cell_type": "markdown",
   "id": "75cc988a",
   "metadata": {},
   "source": [
    "The table contains the names of the books, their author and their rankings in their particular categories\n",
    "\n",
    "### Popular authors (overall)\n",
    "\n",
    "Let us find out the most popular authors in the list overall by counting the number of times an author's name appear in the list OR in other words, counting the number of books/novels made by each author"
   ]
  },
  {
   "cell_type": "code",
   "execution_count": 30,
   "id": "a6118b21",
   "metadata": {},
   "outputs": [
    {
     "name": "stdout",
     "output_type": "stream",
     "text": [
      "*  duckdb:///sault_library_2022.db\n",
      "Done.\n"
     ]
    },
    {
     "data": {
      "text/html": [
       "<table>\n",
       "    <tr>\n",
       "        <th>Author</th>\n",
       "        <th>Count</th>\n",
       "    </tr>\n",
       "    <tr>\n",
       "        <td> Aaron Blabey</td>\n",
       "        <td>9</td>\n",
       "    </tr>\n",
       "    <tr>\n",
       "        <td> David Baldacci</td>\n",
       "        <td>8</td>\n",
       "    </tr>\n",
       "    <tr>\n",
       "        <td> Erin Hunter</td>\n",
       "        <td>6</td>\n",
       "    </tr>\n",
       "    <tr>\n",
       "        <td> Lauren Tarshis</td>\n",
       "        <td>5</td>\n",
       "    </tr>\n",
       "    <tr>\n",
       "        <td> Thea Stilton</td>\n",
       "        <td>5</td>\n",
       "    </tr>\n",
       "    <tr>\n",
       "        <td> Robert N. Munsch</td>\n",
       "        <td>5</td>\n",
       "    </tr>\n",
       "</table>"
      ],
      "text/plain": [
       "[(' Aaron Blabey', 9),\n",
       " (' David Baldacci', 8),\n",
       " (' Erin Hunter', 6),\n",
       " (' Lauren Tarshis', 5),\n",
       " (' Thea Stilton', 5),\n",
       " (' Robert N. Munsch', 5)]"
      ]
     },
     "execution_count": 30,
     "metadata": {},
     "output_type": "execute_result"
    }
   ],
   "source": [
    "%%sql\n",
    "SELECT Author_Name AS \"Author\",COUNT(*) AS \"Count\"\n",
    "FROM most_circulated_books_22\n",
    "GROUP BY Author_Name\n",
    "ORDER BY Count DESC\n",
    "LIMIT 6"
   ]
  },
  {
   "cell_type": "markdown",
   "id": "8c422466",
   "metadata": {},
   "source": [
    "Aaron Blabey is the most popular with 9 books while David Baldacci comes up second with 8 books\n",
    "\n",
    "We can visualize the same result in the form of a bar chart using Matplotlib and Seaborn"
   ]
  },
  {
   "cell_type": "code",
   "execution_count": 31,
   "id": "15110dc6",
   "metadata": {},
   "outputs": [],
   "source": [
    "#set the previous output of a cell to a variable\n",
    "result = _\n",
    "#create dataframe from a variable\n",
    "df = result.DataFrame()"
   ]
  },
  {
   "cell_type": "code",
   "execution_count": 34,
   "id": "57727e64",
   "metadata": {},
   "outputs": [
    {
     "data": {
      "image/png": "[encoded data removed]",
      "text/plain": [
       "<Figure size 720x576 with 1 Axes>"
      ]
     },
     "metadata": {
      "needs_background": "light"
     },
     "output_type": "display_data"
    }
   ],
   "source": [
    "import seaborn as sns\n",
    "import matplotlib.pyplot as plt\n",
    "\n",
    "# Define plot size\n",
    "plt.figure(figsize=(10, 8))\n",
    " \n",
    "# Create barplot using data from the dataframe\n",
    "plots = sns.barplot(y='Author', x='Count', data=df)\n",
    " \n",
    "#Add labels/annotations to the barplot    \n",
    "plt.bar_label(plots.containers[0],size=14)\n",
    "    \n",
    "# Setting the label for x-axis\n",
    "plt.xlabel(\"Books Count\", size=14)\n",
    " \n",
    "# Setting the label for y-axis\n",
    "plt.ylabel(\"Author\", size=14)\n",
    " \n",
    "# Setting the title for the graph\n",
    "plt.title(\"Popularity of authors (overall)\")\n",
    " \n",
    "plt.show()"
   ]
  },
  {
   "cell_type": "markdown",
   "id": "13e5ff63",
   "metadata": {},
   "source": [
    "The bar chart shows clearly that Aaron Blabey's books are the most popular overall while Baldacci's novels comes 2nd"
   ]
  },
  {
   "cell_type": "markdown",
   "id": "acf4648d",
   "metadata": {},
   "source": [
    "### Digging deeper into Blabey and Baldacci\n",
    "\n",
    "Let us find out in which categories Blabey and Baldacci come up"
   ]
  },
  {
   "cell_type": "code",
   "execution_count": 6,
   "id": "51d43b0e",
   "metadata": {},
   "outputs": [
    {
     "name": "stdout",
     "output_type": "stream",
     "text": [
      "*  duckdb:///sault_library_2022.db\n",
      "Done.\n"
     ]
    },
    {
     "data": {
      "text/html": [
       "<table>\n",
       "    <tr>\n",
       "        <th>No.</th>\n",
       "        <th>Ranking</th>\n",
       "        <th>Book</th>\n",
       "        <th>Author</th>\n",
       "        <th>Category</th>\n",
       "    </tr>\n",
       "    <tr>\n",
       "        <td>1</td>\n",
       "        <td>1</td>\n",
       "        <td> A Gambling Man </td>\n",
       "        <td> David Baldacci</td>\n",
       "        <td>Adult Fiction</td>\n",
       "    </tr>\n",
       "    <tr>\n",
       "        <td>2</td>\n",
       "        <td>2</td>\n",
       "        <td> Daylight </td>\n",
       "        <td> David Baldacci</td>\n",
       "        <td>Adult Fiction</td>\n",
       "    </tr>\n",
       "    <tr>\n",
       "        <td>3</td>\n",
       "        <td>3</td>\n",
       "        <td> Walk the Wire </td>\n",
       "        <td> David Baldacci</td>\n",
       "        <td>Adult Fiction</td>\n",
       "    </tr>\n",
       "    <tr>\n",
       "        <td>4</td>\n",
       "        <td>4</td>\n",
       "        <td> One Good Deed </td>\n",
       "        <td> David Baldacci</td>\n",
       "        <td>Adult Fiction</td>\n",
       "    </tr>\n",
       "    <tr>\n",
       "        <td>5</td>\n",
       "        <td>6</td>\n",
       "        <td> Long Road to Mercy </td>\n",
       "        <td> David Baldacci</td>\n",
       "        <td>Adult Fiction</td>\n",
       "    </tr>\n",
       "    <tr>\n",
       "        <td>6</td>\n",
       "        <td>10</td>\n",
       "        <td> Mercy </td>\n",
       "        <td> David Baldacci</td>\n",
       "        <td>Adult Fiction</td>\n",
       "    </tr>\n",
       "    <tr>\n",
       "        <td>7</td>\n",
       "        <td>14</td>\n",
       "        <td> The Fix </td>\n",
       "        <td> David Baldacci</td>\n",
       "        <td>Adult Fiction</td>\n",
       "    </tr>\n",
       "    <tr>\n",
       "        <td>8</td>\n",
       "        <td>25</td>\n",
       "        <td> The Fallen </td>\n",
       "        <td> David Baldacci</td>\n",
       "        <td>Adult Fiction</td>\n",
       "    </tr>\n",
       "</table>"
      ],
      "text/plain": [
       "[(1, 1, ' A Gambling Man ', ' David Baldacci', 'Adult Fiction'),\n",
       " (2, 2, ' Daylight ', ' David Baldacci', 'Adult Fiction'),\n",
       " (3, 3, ' Walk the Wire ', ' David Baldacci', 'Adult Fiction'),\n",
       " (4, 4, ' One Good Deed ', ' David Baldacci', 'Adult Fiction'),\n",
       " (5, 6, ' Long Road to Mercy ', ' David Baldacci', 'Adult Fiction'),\n",
       " (6, 10, ' Mercy ', ' David Baldacci', 'Adult Fiction'),\n",
       " (7, 14, ' The Fix ', ' David Baldacci', 'Adult Fiction'),\n",
       " (8, 25, ' The Fallen ', ' David Baldacci', 'Adult Fiction')]"
      ]
     },
     "execution_count": 6,
     "metadata": {},
     "output_type": "execute_result"
    }
   ],
   "source": [
    "%%sql\n",
    "SELECT \n",
    "    ROW_NUMBER() OVER() AS 'No.', \n",
    "    Rank AS 'Ranking',\n",
    "    Book_Name AS 'Book', \n",
    "    Author_Name AS 'Author', \n",
    "    Category \n",
    "FROM most_circulated_books_22\n",
    "WHERE Author_Name LIKE' David Baldacci'"
   ]
  },
  {
   "cell_type": "code",
   "execution_count": 7,
   "id": "e7a89937",
   "metadata": {},
   "outputs": [
    {
     "name": "stdout",
     "output_type": "stream",
     "text": [
      "*  duckdb:///sault_library_2022.db\n",
      "Done.\n"
     ]
    },
    {
     "data": {
      "text/html": [
       "<table>\n",
       "    <tr>\n",
       "        <th>No.</th>\n",
       "        <th>Ranking</th>\n",
       "        <th>Book</th>\n",
       "        <th>Author</th>\n",
       "        <th>Category</th>\n",
       "    </tr>\n",
       "    <tr>\n",
       "        <td>1</td>\n",
       "        <td>1</td>\n",
       "        <td> The Bad Guys in Alien vs Bad Guys </td>\n",
       "        <td> Aaron Blabey</td>\n",
       "        <td>Easy Read collection</td>\n",
       "    </tr>\n",
       "    <tr>\n",
       "        <td>2</td>\n",
       "        <td>2</td>\n",
       "        <td> The Bad Guys in the Furball Strikes Back </td>\n",
       "        <td> Aaron Blabey</td>\n",
       "        <td>Easy Read collection</td>\n",
       "    </tr>\n",
       "    <tr>\n",
       "        <td>3</td>\n",
       "        <td>3</td>\n",
       "        <td> The Bad Guys in Intergalactic Gas </td>\n",
       "        <td> Aaron Blabey</td>\n",
       "        <td>Easy Read collection</td>\n",
       "    </tr>\n",
       "    <tr>\n",
       "        <td>4</td>\n",
       "        <td>10</td>\n",
       "        <td> The Bad Guys in They’re Bee-hind you! </td>\n",
       "        <td> Aaron Blabey</td>\n",
       "        <td>Easy Read collection</td>\n",
       "    </tr>\n",
       "    <tr>\n",
       "        <td>5</td>\n",
       "        <td>17</td>\n",
       "        <td> The Bad Guys in Attack of the Zittens </td>\n",
       "        <td> Aaron Blabey</td>\n",
       "        <td>Easy Read collection</td>\n",
       "    </tr>\n",
       "    <tr>\n",
       "        <td>6</td>\n",
       "        <td>19</td>\n",
       "        <td> The Bad Guys in Do-you-think-he-saurus? </td>\n",
       "        <td> Aaron Blabey</td>\n",
       "        <td>Easy Read collection</td>\n",
       "    </tr>\n",
       "    <tr>\n",
       "        <td>7</td>\n",
       "        <td>21</td>\n",
       "        <td> The Bad Guys </td>\n",
       "        <td> Aaron Blabey</td>\n",
       "        <td>Easy Read collection</td>\n",
       "    </tr>\n",
       "    <tr>\n",
       "        <td>8</td>\n",
       "        <td>22</td>\n",
       "        <td> The Bad Guys in Mission Unpluckable </td>\n",
       "        <td> Aaron Blabey</td>\n",
       "        <td>Easy Read collection</td>\n",
       "    </tr>\n",
       "    <tr>\n",
       "        <td>9</td>\n",
       "        <td>7</td>\n",
       "        <td> Pig the Pug </td>\n",
       "        <td> Aaron Blabey</td>\n",
       "        <td>Picture Book Fiction</td>\n",
       "    </tr>\n",
       "</table>"
      ],
      "text/plain": [
       "[(1, 1, ' The Bad Guys in Alien vs Bad Guys ', ' Aaron Blabey', 'Easy Read collection'),\n",
       " (2, 2, ' The Bad Guys in the Furball Strikes Back ', ' Aaron Blabey', 'Easy Read collection'),\n",
       " (3, 3, ' The Bad Guys in Intergalactic Gas ', ' Aaron Blabey', 'Easy Read collection'),\n",
       " (4, 10, ' The Bad Guys in They’re Bee-hind you! ', ' Aaron Blabey', 'Easy Read collection'),\n",
       " (5, 17, ' The Bad Guys in Attack of the Zittens ', ' Aaron Blabey', 'Easy Read collection'),\n",
       " (6, 19, ' The Bad Guys in Do-you-think-he-saurus? ', ' Aaron Blabey', 'Easy Read collection'),\n",
       " (7, 21, ' The Bad Guys ', ' Aaron Blabey', 'Easy Read collection'),\n",
       " (8, 22, ' The Bad Guys in Mission Unpluckable ', ' Aaron Blabey', 'Easy Read collection'),\n",
       " (9, 7, ' Pig the Pug ', ' Aaron Blabey', 'Picture Book Fiction')]"
      ]
     },
     "execution_count": 7,
     "metadata": {},
     "output_type": "execute_result"
    }
   ],
   "source": [
    "%%sql\n",
    "SELECT \n",
    "    ROW_NUMBER() OVER() AS 'No.', \n",
    "    Rank AS 'Ranking',\n",
    "    Book_Name AS 'Book', \n",
    "    Author_Name AS 'Author', \n",
    "    Category \n",
    "FROM most_circulated_books_22\n",
    "WHERE Author_Name LIKE' Aaron Blabey'"
   ]
  },
  {
   "cell_type": "markdown",
   "id": "3f49eb49",
   "metadata": {},
   "source": [
    "As seen above, David Baldacci dominates the Adult Fiction list while Aaron Blabey has the majority of his books in the Easy Read collection except for \"Pig the Pug\""
   ]
  },
  {
   "cell_type": "markdown",
   "id": "1073fc03",
   "metadata": {},
   "source": [
    "### Popular authors by category\n",
    "\n",
    "Let's find the most popular authors in these seven categories - Adult Fiction, Adult Nonfiction, Young Adult Fiction, Juvenile Fiction Paperbacks, Easy Read collection, Picture Book Non-Fiction, Picture Book Fiction"
   ]
  },
  {
   "cell_type": "code",
   "execution_count": 40,
   "id": "8c9108a8",
   "metadata": {},
   "outputs": [
    {
     "name": "stdout",
     "output_type": "stream",
     "text": [
      "*  duckdb:///sault_library_2022.db\n",
      "Done.\n"
     ]
    },
    {
     "data": {
      "text/html": [
       "<table>\n",
       "    <tr>\n",
       "        <th>Author</th>\n",
       "        <th>Count</th>\n",
       "        <th>Category</th>\n",
       "    </tr>\n",
       "    <tr>\n",
       "        <td> David Baldacci</td>\n",
       "        <td>8</td>\n",
       "        <td>Adult Fiction</td>\n",
       "    </tr>\n",
       "</table>"
      ],
      "text/plain": [
       "[(' David Baldacci', 8, 'Adult Fiction')]"
      ]
     },
     "execution_count": 40,
     "metadata": {},
     "output_type": "execute_result"
    }
   ],
   "source": [
    "%%sql\n",
    "SELECT Author_Name AS 'Author', COUNT(*) AS 'Count',Category\n",
    "FROM most_circulated_books_22\n",
    "WHERE Category LIKE 'Adult Fiction%'\n",
    "GROUP BY Author_Name,Category\n",
    "ORDER BY Count DESC\n",
    "LIMIT 1"
   ]
  },
  {
   "cell_type": "code",
   "execution_count": 41,
   "id": "df7fdbdc",
   "metadata": {},
   "outputs": [
    {
     "name": "stdout",
     "output_type": "stream",
     "text": [
      "*  duckdb:///sault_library_2022.db\n",
      "Done.\n"
     ]
    },
    {
     "data": {
      "text/html": [
       "<table>\n",
       "    <tr>\n",
       "        <th>Author</th>\n",
       "        <th>Count</th>\n",
       "        <th>Category</th>\n",
       "    </tr>\n",
       "    <tr>\n",
       "        <td>Ontario Ministry of Transportation</td>\n",
       "        <td>2</td>\n",
       "        <td>Adult Nonfiction</td>\n",
       "    </tr>\n",
       "</table>"
      ],
      "text/plain": [
       "[('Ontario Ministry of Transportation', 2, 'Adult Nonfiction')]"
      ]
     },
     "execution_count": 41,
     "metadata": {},
     "output_type": "execute_result"
    }
   ],
   "source": [
    "%%sql\n",
    "SELECT Author_Name AS 'Author', COUNT(*) AS 'Count',Category\n",
    "FROM most_circulated_books_22\n",
    "WHERE Category LIKE 'Adult Nonfiction%'\n",
    "GROUP BY Author_Name,Category\n",
    "ORDER BY Count DESC\n",
    "LIMIT 1"
   ]
  },
  {
   "cell_type": "code",
   "execution_count": 42,
   "id": "c94cf357",
   "metadata": {},
   "outputs": [
    {
     "name": "stdout",
     "output_type": "stream",
     "text": [
      "*  duckdb:///sault_library_2022.db\n",
      "Done.\n"
     ]
    },
    {
     "data": {
      "text/html": [
       "<table>\n",
       "    <tr>\n",
       "        <th>Author</th>\n",
       "        <th>Count</th>\n",
       "        <th>Category</th>\n",
       "    </tr>\n",
       "    <tr>\n",
       "        <td> Karen M. McManus</td>\n",
       "        <td>2</td>\n",
       "        <td>Young Adult Fiction</td>\n",
       "    </tr>\n",
       "</table>"
      ],
      "text/plain": [
       "[(' Karen M. McManus', 2, 'Young Adult Fiction')]"
      ]
     },
     "execution_count": 42,
     "metadata": {},
     "output_type": "execute_result"
    }
   ],
   "source": [
    "%%sql\n",
    "SELECT Author_Name AS 'Author', COUNT(*) AS 'Count',Category\n",
    "FROM most_circulated_books_22\n",
    "WHERE Category LIKE 'Young Adult Fiction%'\n",
    "GROUP BY Author_Name,Category\n",
    "ORDER BY Count DESC\n",
    "LIMIT 1"
   ]
  },
  {
   "cell_type": "code",
   "execution_count": 43,
   "id": "c27cdd43",
   "metadata": {},
   "outputs": [
    {
     "name": "stdout",
     "output_type": "stream",
     "text": [
      "*  duckdb:///sault_library_2022.db\n",
      "Done.\n"
     ]
    },
    {
     "data": {
      "text/html": [
       "<table>\n",
       "    <tr>\n",
       "        <th>Author</th>\n",
       "        <th>Count</th>\n",
       "        <th>Category</th>\n",
       "    </tr>\n",
       "    <tr>\n",
       "        <td> Erin Hunter</td>\n",
       "        <td>6</td>\n",
       "        <td>Juvenile Fiction Paperbacks</td>\n",
       "    </tr>\n",
       "</table>"
      ],
      "text/plain": [
       "[(' Erin Hunter', 6, 'Juvenile Fiction Paperbacks')]"
      ]
     },
     "execution_count": 43,
     "metadata": {},
     "output_type": "execute_result"
    }
   ],
   "source": [
    "%%sql\n",
    "SELECT Author_Name AS 'Author', COUNT(*) AS 'Count',Category\n",
    "FROM most_circulated_books_22\n",
    "WHERE Category LIKE 'Juvenile Fiction Paperbacks%'\n",
    "GROUP BY Author_Name,Category\n",
    "ORDER BY Count DESC\n",
    "LIMIT 1"
   ]
  },
  {
   "cell_type": "code",
   "execution_count": 44,
   "id": "e95efef1",
   "metadata": {
    "scrolled": true
   },
   "outputs": [
    {
     "name": "stdout",
     "output_type": "stream",
     "text": [
      "*  duckdb:///sault_library_2022.db\n",
      "Done.\n"
     ]
    },
    {
     "data": {
      "text/html": [
       "<table>\n",
       "    <tr>\n",
       "        <th>Author</th>\n",
       "        <th>Count</th>\n",
       "        <th>Category</th>\n",
       "    </tr>\n",
       "    <tr>\n",
       "        <td> Aaron Blabey</td>\n",
       "        <td>8</td>\n",
       "        <td>Easy Read collection</td>\n",
       "    </tr>\n",
       "</table>"
      ],
      "text/plain": [
       "[(' Aaron Blabey', 8, 'Easy Read collection')]"
      ]
     },
     "execution_count": 44,
     "metadata": {},
     "output_type": "execute_result"
    }
   ],
   "source": [
    "%%sql\n",
    "SELECT Author_Name AS 'Author', COUNT(*) AS 'Count',Category\n",
    "FROM most_circulated_books_22\n",
    "WHERE Category LIKE 'Easy Read%'\n",
    "GROUP BY Author_Name,Category\n",
    "ORDER BY Count DESC\n",
    "LIMIT 1"
   ]
  },
  {
   "cell_type": "code",
   "execution_count": 45,
   "id": "2ca532b9",
   "metadata": {},
   "outputs": [
    {
     "name": "stdout",
     "output_type": "stream",
     "text": [
      "*  duckdb:///sault_library_2022.db\n",
      "Done.\n"
     ]
    },
    {
     "data": {
      "text/html": [
       "<table>\n",
       "    <tr>\n",
       "        <th>Author</th>\n",
       "        <th>Count</th>\n",
       "        <th>Category</th>\n",
       "    </tr>\n",
       "    <tr>\n",
       "        <td> Derek Harmening</td>\n",
       "        <td>3</td>\n",
       "        <td>Picture Book Non-Fiction</td>\n",
       "    </tr>\n",
       "</table>"
      ],
      "text/plain": [
       "[(' Derek Harmening', 3, 'Picture Book Non-Fiction')]"
      ]
     },
     "execution_count": 45,
     "metadata": {},
     "output_type": "execute_result"
    }
   ],
   "source": [
    "%%sql\n",
    "SELECT Author_Name AS 'Author', COUNT(*) AS 'Count',Category\n",
    "FROM most_circulated_books_22\n",
    "WHERE Category LIKE 'Picture Book Non-Fiction%'\n",
    "GROUP BY Author_Name,Category\n",
    "ORDER BY Count DESC\n",
    "LIMIT 1"
   ]
  },
  {
   "cell_type": "code",
   "execution_count": 46,
   "id": "d194e980",
   "metadata": {},
   "outputs": [
    {
     "name": "stdout",
     "output_type": "stream",
     "text": [
      "*  duckdb:///sault_library_2022.db\n",
      "Done.\n"
     ]
    },
    {
     "data": {
      "text/html": [
       "<table>\n",
       "    <tr>\n",
       "        <th>Author</th>\n",
       "        <th>Count</th>\n",
       "        <th>Category</th>\n",
       "    </tr>\n",
       "    <tr>\n",
       "        <td> Robert N. Munsch</td>\n",
       "        <td>5</td>\n",
       "        <td>Picture Book Fiction</td>\n",
       "    </tr>\n",
       "</table>"
      ],
      "text/plain": [
       "[(' Robert N. Munsch', 5, 'Picture Book Fiction')]"
      ]
     },
     "execution_count": 46,
     "metadata": {},
     "output_type": "execute_result"
    }
   ],
   "source": [
    "%%sql\n",
    "SELECT Author_Name AS 'Author', COUNT(*) AS 'Count',Category\n",
    "FROM most_circulated_books_22\n",
    "WHERE Category LIKE 'Picture Book Fiction%'\n",
    "GROUP BY Author_Name,Category\n",
    "ORDER BY Count DESC\n",
    "LIMIT 1"
   ]
  },
  {
   "cell_type": "markdown",
   "id": "7e279987",
   "metadata": {},
   "source": [
    "We can modify the above queries into a nested query as shown in the example below. The result will be the same"
   ]
  },
  {
   "cell_type": "code",
   "execution_count": 49,
   "id": "bc6d8504",
   "metadata": {},
   "outputs": [
    {
     "name": "stdout",
     "output_type": "stream",
     "text": [
      "*  duckdb:///sault_library_2022.db\n",
      "Done.\n"
     ]
    },
    {
     "data": {
      "text/html": [
       "<table>\n",
       "    <tr>\n",
       "        <th>Author</th>\n",
       "        <th>Count</th>\n",
       "        <th>Category</th>\n",
       "    </tr>\n",
       "    <tr>\n",
       "        <td> David Baldacci</td>\n",
       "        <td>8</td>\n",
       "        <td>Adult Fiction</td>\n",
       "    </tr>\n",
       "</table>"
      ],
      "text/plain": [
       "[(' David Baldacci', 8, 'Adult Fiction')]"
      ]
     },
     "execution_count": 49,
     "metadata": {},
     "output_type": "execute_result"
    }
   ],
   "source": [
    "%%sql\n",
    "--Subquery method\n",
    "\n",
    "SELECT Author,MAX(Count) AS Count, Category\n",
    "FROM\n",
    "   (\n",
    "    SELECT Author_Name AS 'Author', COUNT(*) AS 'Count',Category\n",
    "    FROM most_circulated_books_22\n",
    "    WHERE Category LIKE 'Adult Fiction%'\n",
    "    GROUP BY Author_Name,Category\n",
    "    LIMIT 1   \n",
    "   )    \n",
    "GROUP BY Author, Category   "
   ]
  },
  {
   "cell_type": "markdown",
   "id": "f763b03d",
   "metadata": {},
   "source": [
    "Let's get the popular authors of each category together by joining those subqueries using UNION and then save the result to a virtual table (SQL View) named popular_author"
   ]
  },
  {
   "cell_type": "code",
   "execution_count": 51,
   "id": "76a021eb",
   "metadata": {},
   "outputs": [
    {
     "name": "stdout",
     "output_type": "stream",
     "text": [
      "*  duckdb:///sault_library_2022.db\n",
      "Done.\n"
     ]
    },
    {
     "data": {
      "text/html": [
       "<table>\n",
       "    <tr>\n",
       "        <th>Count</th>\n",
       "    </tr>\n",
       "</table>"
      ],
      "text/plain": [
       "[]"
      ]
     },
     "execution_count": 51,
     "metadata": {},
     "output_type": "execute_result"
    }
   ],
   "source": [
    "%%sql\n",
    "\n",
    "/*All the individual subqueries to get each author from each category\n",
    "are joined using UNION and the result is saved to a SQL view*/\n",
    "\n",
    "CREATE OR REPLACE VIEW popular_author AS\n",
    "    SELECT Author,MAX(Count) AS Count,Category\n",
    "    FROM\n",
    "       (\n",
    "        SELECT Author_Name AS 'Author', COUNT(*) AS 'Count',Category\n",
    "        FROM most_circulated_books_22\n",
    "        WHERE Category LIKE 'Adult Fiction%'\n",
    "        GROUP BY Author_Name,Category\n",
    "        ORDER BY Count DESC   \n",
    "        LIMIT 1   \n",
    "       )    \n",
    "    GROUP BY Author,Category  \n",
    "    \n",
    "UNION\n",
    "    SELECT Author,MAX(Count) AS Count,Category\n",
    "    FROM\n",
    "       (\n",
    "        SELECT Author_Name AS 'Author', COUNT(*) AS 'Count',Category\n",
    "        FROM most_circulated_books_22\n",
    "        WHERE Category LIKE 'Adult Nonfiction%'\n",
    "        GROUP BY Author_Name,Category\n",
    "        ORDER BY Count DESC   \n",
    "        LIMIT 1   \n",
    "       )    \n",
    "    GROUP BY Author,Category \n",
    "    \n",
    "UNION\n",
    "    SELECT Author,MAX(Count) AS Count,Category\n",
    "    FROM\n",
    "       (\n",
    "        SELECT Author_Name AS 'Author', COUNT(*) AS 'Count',Category\n",
    "        FROM most_circulated_books_22\n",
    "        WHERE Category LIKE 'Young Adult Fiction%'\n",
    "        GROUP BY Author_Name,Category\n",
    "        ORDER BY Count DESC   \n",
    "        LIMIT 1   \n",
    "       )    \n",
    "    GROUP BY Author,Category\n",
    "    \n",
    "UNION\n",
    "    SELECT Author,MAX(Count) AS Count,Category\n",
    "    FROM\n",
    "       (\n",
    "        SELECT Author_Name AS 'Author', COUNT(*) AS 'Count',Category\n",
    "        FROM most_circulated_books_22\n",
    "        WHERE Category LIKE 'Juvenile Fiction Paperbacks%'\n",
    "        GROUP BY Author_Name,Category\n",
    "        ORDER BY Count DESC   \n",
    "        LIMIT 1   \n",
    "       )    \n",
    "    GROUP BY Author,Category\n",
    "    \n",
    "UNION\n",
    "    SELECT Author,MAX(Count) AS Count,Category\n",
    "    FROM\n",
    "       (\n",
    "        SELECT Author_Name AS 'Author', COUNT(*) AS 'Count',Category\n",
    "        FROM most_circulated_books_22\n",
    "        WHERE Category LIKE 'Easy Read%'\n",
    "        GROUP BY Author_Name,Category\n",
    "        ORDER BY Count DESC   \n",
    "        LIMIT 1   \n",
    "       )    \n",
    "    GROUP BY Author,Category  \n",
    "    \n",
    "UNION\n",
    "    SELECT Author,MAX(Count) AS Count,Category\n",
    "    FROM\n",
    "       (\n",
    "        SELECT Author_Name AS 'Author', COUNT(*) AS 'Count',Category\n",
    "        FROM most_circulated_books_22\n",
    "        WHERE Category LIKE 'Picture Book Non-Fiction%'\n",
    "        GROUP BY Author_Name,Category\n",
    "        ORDER BY Count DESC   \n",
    "        LIMIT 1   \n",
    "       )    \n",
    "    GROUP BY Author,Category  \n",
    "    \n",
    "UNION\n",
    "    SELECT Author,MAX(Count) AS Count,Category\n",
    "    FROM\n",
    "       (\n",
    "        SELECT Author_Name AS 'Author', COUNT(*) AS 'Count',Category\n",
    "        FROM most_circulated_books_22\n",
    "        WHERE Category LIKE 'Picture Book Fiction%'\n",
    "        GROUP BY Author_Name,Category\n",
    "        ORDER BY Count DESC   \n",
    "        LIMIT 1   \n",
    "       )    \n",
    "    GROUP BY Author,Category      "
   ]
  },
  {
   "cell_type": "markdown",
   "id": "a81fdf27",
   "metadata": {},
   "source": [
    "Let us check out the popular_author virtual table"
   ]
  },
  {
   "cell_type": "code",
   "execution_count": 52,
   "id": "ec7e5433",
   "metadata": {
    "scrolled": true
   },
   "outputs": [
    {
     "name": "stdout",
     "output_type": "stream",
     "text": [
      "*  duckdb:///sault_library_2022.db\n",
      "Done.\n"
     ]
    },
    {
     "data": {
      "text/html": [
       "<table>\n",
       "    <tr>\n",
       "        <th>Author</th>\n",
       "        <th>Count</th>\n",
       "        <th>Category</th>\n",
       "    </tr>\n",
       "    <tr>\n",
       "        <td> Aaron Blabey</td>\n",
       "        <td>8</td>\n",
       "        <td>Easy Read collection</td>\n",
       "    </tr>\n",
       "    <tr>\n",
       "        <td> David Baldacci</td>\n",
       "        <td>8</td>\n",
       "        <td>Adult Fiction</td>\n",
       "    </tr>\n",
       "    <tr>\n",
       "        <td> Erin Hunter</td>\n",
       "        <td>6</td>\n",
       "        <td>Juvenile Fiction Paperbacks</td>\n",
       "    </tr>\n",
       "    <tr>\n",
       "        <td> Robert N. Munsch</td>\n",
       "        <td>5</td>\n",
       "        <td>Picture Book Fiction</td>\n",
       "    </tr>\n",
       "    <tr>\n",
       "        <td> Derek Harmening</td>\n",
       "        <td>3</td>\n",
       "        <td>Picture Book Non-Fiction</td>\n",
       "    </tr>\n",
       "    <tr>\n",
       "        <td>Ontario Ministry of Transportation</td>\n",
       "        <td>2</td>\n",
       "        <td>Adult Nonfiction</td>\n",
       "    </tr>\n",
       "    <tr>\n",
       "        <td> Karen M. McManus</td>\n",
       "        <td>2</td>\n",
       "        <td>Young Adult Fiction</td>\n",
       "    </tr>\n",
       "</table>"
      ],
      "text/plain": [
       "[(' Aaron Blabey', 8, 'Easy Read collection'),\n",
       " (' David Baldacci', 8, 'Adult Fiction'),\n",
       " (' Erin Hunter', 6, 'Juvenile Fiction Paperbacks'),\n",
       " (' Robert N. Munsch', 5, 'Picture Book Fiction'),\n",
       " (' Derek Harmening', 3, 'Picture Book Non-Fiction'),\n",
       " ('Ontario Ministry of Transportation', 2, 'Adult Nonfiction'),\n",
       " (' Karen M. McManus', 2, 'Young Adult Fiction')]"
      ]
     },
     "execution_count": 52,
     "metadata": {},
     "output_type": "execute_result"
    }
   ],
   "source": [
    "%%sql\n",
    "SELECT * FROM popular_author\n",
    "ORDER BY Count DESC"
   ]
  },
  {
   "cell_type": "markdown",
   "id": "ed736d99",
   "metadata": {},
   "source": [
    "Looks like Blabey and Baldacci are popular in the Easy Read collection and Adult Fiction lists respectively\n",
    "\n",
    "We can visualise this result with a bar chart again using Matplotlib and Seaborn"
   ]
  },
  {
   "cell_type": "code",
   "execution_count": 53,
   "id": "bb768823",
   "metadata": {},
   "outputs": [],
   "source": [
    "#set the previous output of a cell to a variable\n",
    "result = _\n",
    "\n",
    "#create dataframe from a variable\n",
    "df = result.DataFrame()\n"
   ]
  },
  {
   "cell_type": "code",
   "execution_count": 54,
   "id": "7fe7ff69",
   "metadata": {
    "scrolled": false
   },
   "outputs": [
    {
     "data": {
      "image/png": "[encoded data removed]",
      "text/plain": [
       "<Figure size 720x720 with 1 Axes>"
      ]
     },
     "metadata": {
      "needs_background": "light"
     },
     "output_type": "display_data"
    }
   ],
   "source": [
    "\n",
    "# Define plot size\n",
    "plt.figure(figsize=(10, 10))\n",
    " \n",
    "# Create barplot using data from the dataframe\n",
    "#plots = sns.barplot(y='Author_Name', x='Count', data=mostpop)\n",
    "ax = sns.barplot(y='Author', x='Count', data=df, hue='Category',dodge=False)\n",
    " \n",
    "#Add labels/annotations to the barplot    \n",
    "for i in range(0,len(df)):\n",
    "    ax.bar_label(ax.containers[i],label_type='edge',size=14)\n",
    "\n",
    "# Setting the label for x-axis\n",
    "plt.xlabel(\"Books Count\", size=14)\n",
    " \n",
    "# Setting the label for y-axis\n",
    "plt.ylabel(\"Author\", size=14)\n",
    " \n",
    "# Setting the title for the graph\n",
    "plt.title(\"Popularity of authors by category\")\n",
    " \n",
    "plt.show()\n"
   ]
  },
  {
   "cell_type": "markdown",
   "id": "56a7a928",
   "metadata": {},
   "source": [
    "The above bar chart shows clearly that Blabey and Baldacci dominate their respective categories in terms of popularity"
   ]
  },
  {
   "cell_type": "markdown",
   "id": "5ae5fe07",
   "metadata": {},
   "source": [
    "### Conclusion\n",
    "\n",
    "After analysing the list of top most circulated books, we found that Aaron Blabey's books are the most popular overall. We also found that the books of Blabey and Baldacci are the most popular in the Easy Read collection and Adult Fiction categories respectively. Hope you found this analysis interesting"
   ]
  }
 ],
 "metadata": {
  "kernelspec": {
   "display_name": "Python 3 (ipykernel)",
   "language": "python",
   "name": "python3"
  },
  "language_info": {
   "codemirror_mode": {
    "name": "ipython",
    "version": 3
   },
   "file_extension": ".py",
   "mimetype": "text/x-python",
   "name": "python",
   "nbconvert_exporter": "python",
   "pygments_lexer": "ipython3",
   "version": "3.9.7"
  }
 },
 "nbformat": 4,
 "nbformat_minor": 5
}
